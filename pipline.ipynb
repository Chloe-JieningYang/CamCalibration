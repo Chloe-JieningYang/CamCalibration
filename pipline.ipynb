{
 "cells": [
  {
   "cell_type": "code",
   "execution_count": 4,
   "metadata": {},
   "outputs": [
    {
     "name": "stdout",
     "output_type": "stream",
     "text": [
      "Camera Matrix:\n",
      " [[2.51112220e+03 0.00000000e+00 9.71406297e+02]\n",
      " [0.00000000e+00 2.51206946e+03 5.73149627e+02]\n",
      " [0.00000000e+00 0.00000000e+00 1.00000000e+00]]\n",
      "\n",
      "Distortion Coefficients:\n",
      " [[-8.37716727e-01  1.84486584e+00  3.00158084e-03  5.51622873e-03\n",
      "  -3.21176567e+00]]\n",
      "[[2.51112220e+03 0.00000000e+00 9.71406297e+02]\n",
      " [0.00000000e+00 2.51206946e+03 5.73149627e+02]\n",
      " [0.00000000e+00 0.00000000e+00 1.00000000e+00]]\n",
      "[[-8.37716727e-01  1.84486584e+00  3.00158084e-03  5.51622873e-03\n",
      "  -3.21176567e+00]]\n"
     ]
    }
   ],
   "source": [
    "# get the intrinsic parameters\n",
    "from get_intrinsic import calibrate_camera_from_images\n",
    "camera_intrinsic, dist_coeffs = calibrate_camera_from_images(6, 8, \"chessboard_image\")\n",
    "print(camera_intrinsic)\n",
    "print(dist_coeffs)"
   ]
  },
  {
   "cell_type": "markdown",
   "metadata": {},
   "source": []
  },
  {
   "cell_type": "code",
   "execution_count": 5,
   "metadata": {},
   "outputs": [
    {
     "name": "stdout",
     "output_type": "stream",
     "text": [
      "Rotation Vector:\n",
      " [[ 1.63391465]\n",
      " [-0.54742711]\n",
      " [ 0.27979967]]\n",
      "\n",
      "Extrinsic Matrix:\n",
      " [[ 0.85439444 -0.50240244 -0.13267227 -0.7634166 ]\n",
      " [-0.18674612 -0.0586158  -0.98065798 -1.42976589]\n",
      " [ 0.48490827  0.86264476 -0.14390272 10.45032259]]\n",
      "\n",
      "Projection Matrix:\n",
      " [[ 4.15987609e+03 -1.34480108e+03 -7.11781394e+02  6.72588793e+03]\n",
      " [-6.01371930e+02  1.94525015e+02 -4.60939334e+03 -9.69199312e+02]\n",
      " [ 4.84908271e-01  8.62644757e-01 -1.43902720e-01  1.04503226e+01]]\n",
      "\n",
      "Reference Point:\n",
      " [3.29192788e+05 3.46324900e+06 1.00000000e+00]\n",
      "[[ 2.49878112e+03 -1.00192586e+03 -4.00298222e+01  2.28824733e+03]\n",
      " [ 1.19132580e+02 -1.55932350e+02 -2.56914110e+03 -8.06282287e+02]\n",
      " [ 6.68078002e-01  7.06020202e-01 -2.34962245e-01  8.89347412e+00]]\n"
     ]
    }
   ],
   "source": [
    "from get_extrinsic import solve_pnp_from_files\n",
    "rvec, extrinsic, projection_matrix ,ref_utm= solve_pnp_from_files(\"label_data/gps.csv\", \"label_data/images.txt\", camera_intrinsic, dist_coeffs)\n",
    "print(projection_matrix)"
   ]
  },
  {
   "cell_type": "code",
   "execution_count": 7,
   "metadata": {},
   "outputs": [
    {
     "name": "stdout",
     "output_type": "stream",
     "text": [
      "\n",
      "UTM Points: [[ 0.          0.          0.        ]\n",
      " [ 0.88743537  1.87059903  0.        ]\n",
      " [ 1.86826302  3.62879368  0.        ]\n",
      " [ 0.64513993  4.53577486  0.        ]\n",
      " [ 0.06494136  3.99079275  0.        ]\n",
      " [-0.50804154  3.8892321   0.        ]\n",
      " [-2.68854116  4.47913884  0.        ]\n",
      " [-2.94346331  6.36832731  0.        ]\n",
      " [ 2.61081295 14.1507578   0.        ]\n",
      " [ 3.17297186 13.58718647  0.        ]\n",
      " [ 2.49938138 13.15460869  0.        ]\n",
      " [ 1.54922119 13.28095505  0.        ]\n",
      " [ 0.8738267  12.73752202  0.        ]\n",
      " [ 1.13776889 11.40261043  0.        ]\n",
      " [ 5.69538834 22.30603254  0.        ]\n",
      " [ 6.67621352 24.06422756  0.        ]\n",
      " [ 7.54560734 24.82627353  0.        ]\n",
      " [ 9.43329881 23.79759442  0.        ]\n",
      " [ 6.42711127 32.16286482  0.        ]]\n"
     ]
    }
   ],
   "source": [
    "from get_matrix import read_pixel_data, read_gps_to_UTM\n",
    "image_points=read_pixel_data('label_data\\images.txt')\n",
    "UTM_points=read_gps_to_UTM('label_data\\gps.CSV')\n",
    "normalized_points=UTM_points-ref_utm\n",
    "# print(image_points)\n",
    "print('\\nUTM Points:',normalized_points)"
   ]
  },
  {
   "cell_type": "code",
   "execution_count": 5,
   "metadata": {},
   "outputs": [
    {
     "name": "stdout",
     "output_type": "stream",
     "text": [
      "[[ 1.92434584 -1.29019038  1.        ]\n",
      " [ 1.92547057 -1.29096072  1.        ]\n",
      " [ 1.92598388 -1.29131409  1.        ]\n",
      " [ 1.92654766 -1.29160759  1.        ]\n",
      " [ 1.92631132 -1.29143215  1.        ]\n",
      " [ 1.92615767 -1.29129208  1.        ]\n",
      " [ 1.92660377 -1.29145053  1.        ]\n",
      " [ 1.92742603 -1.2919733   1.        ]\n",
      " [ 1.92843192 -1.29281841  1.        ]\n",
      " [ 1.92823518 -1.29271393  1.        ]\n",
      " [ 1.92826517 -1.29270702  1.        ]\n",
      " [ 1.92832999 -1.29271386  1.        ]\n",
      " [ 1.9284235  -1.29274738  1.        ]\n",
      " [ 1.92805904 -1.29253026  1.        ]\n",
      " [ 1.92916556 -1.2933127   1.        ]\n",
      " [ 1.92923361 -1.29337638  1.        ]\n",
      " [ 1.92918962 -1.29337722  1.        ]\n",
      " [ 1.92904907 -1.293321    1.        ]\n",
      " [ 1.92971967 -1.29367841  1.        ]]\n"
     ]
    }
   ],
   "source": [
    "from img2UTM import image_to_utm\n",
    "utm_coords = image_to_utm(image_points, camera_intrinsic, projection_matrix, dist_coeffs)\n",
    "print(utm_coords)"
   ]
  }
 ],
 "metadata": {
  "kernelspec": {
   "display_name": "calibration",
   "language": "python",
   "name": "python3"
  },
  "language_info": {
   "codemirror_mode": {
    "name": "ipython",
    "version": 3
   },
   "file_extension": ".py",
   "mimetype": "text/x-python",
   "name": "python",
   "nbconvert_exporter": "python",
   "pygments_lexer": "ipython3",
   "version": "3.7.16"
  }
 },
 "nbformat": 4,
 "nbformat_minor": 2
}
