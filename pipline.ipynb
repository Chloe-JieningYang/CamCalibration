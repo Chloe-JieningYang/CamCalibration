{
 "cells": [
  {
   "cell_type": "code",
   "execution_count": 1,
   "metadata": {},
   "outputs": [
    {
     "name": "stdout",
     "output_type": "stream",
     "text": [
      "Camera Matrix:\n",
      " [[2.51112220e+03 0.00000000e+00 9.71406297e+02]\n",
      " [0.00000000e+00 2.51206946e+03 5.73149627e+02]\n",
      " [0.00000000e+00 0.00000000e+00 1.00000000e+00]]\n",
      "\n",
      "Distortion Coefficients:\n",
      " [[-8.37716727e-01  1.84486584e+00  3.00158084e-03  5.51622873e-03\n",
      "  -3.21176567e+00]]\n",
      "[[2.51112220e+03 0.00000000e+00 9.71406297e+02]\n",
      " [0.00000000e+00 2.51206946e+03 5.73149627e+02]\n",
      " [0.00000000e+00 0.00000000e+00 1.00000000e+00]]\n",
      "[[-8.37716727e-01  1.84486584e+00  3.00158084e-03  5.51622873e-03\n",
      "  -3.21176567e+00]]\n"
     ]
    }
   ],
   "source": [
    "# get the intrinsic parameters\n",
    "from get_intrinsic import calibrate_camera_from_images\n",
    "camera_intrinsic, dist_coeffs = calibrate_camera_from_images(6, 8, \"chessboard_image\")\n",
    "print(camera_intrinsic)\n",
    "print(dist_coeffs)"
   ]
  },
  {
   "cell_type": "markdown",
   "metadata": {},
   "source": []
  },
  {
   "cell_type": "code",
   "execution_count": 2,
   "metadata": {},
   "outputs": [
    {
     "name": "stdout",
     "output_type": "stream",
     "text": [
      "Rotation Vector:\n",
      " [[ 1.65745811]\n",
      " [-0.37415336]\n",
      " [ 0.12710175]]\n",
      "\n",
      "Extrinsic Matrix:\n",
      " [[ 0.9390801  -0.31588201 -0.13545156  1.37397354]\n",
      " [-0.1680136  -0.07810486 -0.98268564  1.58919132]\n",
      " [ 0.29983329  0.94557823 -0.12641919 10.60310653]]\n",
      "\n",
      "Projection Matrix:\n",
      " [[ 4.34849776e+03 -4.58667334e+02 -7.07024269e+02  1.61150721e+04]\n",
      " [-6.14654284e+02  1.49205954e+02 -4.60933106e+03  1.30642516e+04]\n",
      " [ 2.99833294e-01  9.45578227e-01 -1.26419194e-01  1.06031065e+01]]\n",
      "\n",
      "Reference Point:\n",
      " [ 329192.78767695 3463248.99898737       0.        ]\n",
      "[[ 2.63503038e+03  6.80691108e+01 -5.48950268e+02  1.31107248e+04]\n",
      " [-3.22203165e+02  3.81418912e+01 -2.55611498e+03  1.14662559e+04]\n",
      " [ 2.93252716e-01  9.23466343e-01 -2.47412121e-01  1.05829349e+01]]\n"
     ]
    }
   ],
   "source": [
    "from get_extrinsic import solve_pnp_from_files\n",
    "rvec, extrinsic, projection_matrix ,ref_utm= solve_pnp_from_files(\"label_data/gps.csv\", \"label_data/images.txt\", camera_intrinsic, dist_coeffs)\n",
    "print(projection_matrix)"
   ]
  }
 ],
 "metadata": {
  "kernelspec": {
   "display_name": "calibration",
   "language": "python",
   "name": "python3"
  },
  "language_info": {
   "codemirror_mode": {
    "name": "ipython",
    "version": 3
   },
   "file_extension": ".py",
   "mimetype": "text/x-python",
   "name": "python",
   "nbconvert_exporter": "python",
   "pygments_lexer": "ipython3",
   "version": "3.7.16"
  }
 },
 "nbformat": 4,
 "nbformat_minor": 2
}
